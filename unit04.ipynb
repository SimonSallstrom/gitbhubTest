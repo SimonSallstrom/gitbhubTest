{
 "cells": [
  {
   "cell_type": "markdown",
   "metadata": {
    "slideshow": {
     "slide_type": "slide"
    }
   },
   "source": [
    "# Computational Programming with Python\n",
    "### Lecture 4: Functions\n",
    "\n",
    "### Center for Mathematical Sciences, Lund University\n",
    "Lecturer: Claus Führer, Malin Christersson\n"
   ]
  },
  {
   "cell_type": "markdown",
   "metadata": {
    "slideshow": {
     "slide_type": "slide"
    }
   },
   "source": [
    "## This lecture\n",
    "\n",
    "- Basic features of functions\n",
    "- Scope of variables\n",
    "- Default arguments\n",
    "- Docstring\n",
    "- Parameters and arguments\n",
    "- Functions are objects\n",
    "- The Newton method"
   ]
  },
  {
   "cell_type": "markdown",
   "metadata": {
    "slideshow": {
     "slide_type": "slide"
    }
   },
   "source": [
    "## Basic features\n",
    "\n",
    "Comparing functions in mathematics and functions in Python"
   ]
  },
  {
   "cell_type": "code",
   "execution_count": 23,
   "metadata": {},
   "outputs": [],
   "source": [
    "from numpy import*\n",
    "from matplotlib.pyplot import *\n",
    "%matplotlib inline"
   ]
  },
  {
   "cell_type": "markdown",
   "metadata": {
    "slideshow": {
     "slide_type": "subslide"
    }
   },
   "source": [
    "## Functions in mathematics\n",
    "\n",
    "A function is written as a map, that uniquely assigns an element $y$ from the range $R$ to every element $x$ of the domain $D$.\n",
    "\n",
    "$$f:x \\mapsto y$$\n",
    "\n",
    "$f$ is the function, $x$ is its argument, $y$ is its (return) value\n",
    "\n",
    "There can be several arguments of different type. Consider:\n",
    "\n",
    "$$ f(g, a, b) = \\int_a^b g(x) dx $$\n",
    "\n",
    "The arguments are not interchangeable. Position matters."
   ]
  },
  {
   "cell_type": "markdown",
   "metadata": {
    "slideshow": {
     "slide_type": "subslide"
    }
   },
   "source": [
    "## Functions in Python\n",
    "\n",
    "Definition of a function:\n",
    "\n",
    "```python\n",
    "def f(x1, x2, x3):\n",
    "    # some computations\n",
    "    y = .... #\n",
    "    return y\n",
    "```\n",
    "\n",
    "Evaluation (call) of a function:\n",
    "\n",
    "```python\n",
    "f(17, 18, -2)\n",
    "f([1, 2, 3], {'tol': 1.e-10}, 'ro')\n",
    "...\n",
    "```\n",
    "\n",
    "Wording:\n",
    "\n",
    "`x1, x2, x3` are called **parameters** (needed for definition)\n",
    "\n",
    "`17, 18, -2` are called **arguments** (needed for evaluation)"
   ]
  },
  {
   "cell_type": "markdown",
   "metadata": {
    "slideshow": {
     "slide_type": "subslide"
    }
   },
   "source": [
    "## Passing arguments\n",
    "\n",
    "Consider:\n",
    "\n",
    "x1 and x2 are keywords., the position doesn't matter if you have x1 - x2.\n",
    "\n",
    "subtract(1,2) will first take 1 and subtract 2 from it. "
   ]
  },
  {
   "cell_type": "code",
   "execution_count": 1,
   "metadata": {},
   "outputs": [],
   "source": [
    "def subtract(x1, x2):\n",
    "    return x1 - x2\n",
    "#here we define a function subtract() to return x1-x2. We can use positional arguments but we can also write out that \"x2=2\""
   ]
  },
  {
   "cell_type": "markdown",
   "metadata": {},
   "source": [
    "Passing arguments by position: (Position matters.)"
   ]
  },
  {
   "cell_type": "code",
   "execution_count": 3,
   "metadata": {},
   "outputs": [
    {
     "data": {
      "text/plain": [
       "-1"
      ]
     },
     "execution_count": 3,
     "metadata": {},
     "output_type": "execute_result"
    }
   ],
   "source": [
    "subtract(1, 2) "
   ]
  },
  {
   "cell_type": "markdown",
   "metadata": {},
   "source": [
    "Passing arguments by keywords: (Position doesn't matter)"
   ]
  },
  {
   "cell_type": "code",
   "execution_count": 4,
   "metadata": {},
   "outputs": [
    {
     "data": {
      "text/plain": [
       "-1"
      ]
     },
     "execution_count": 4,
     "metadata": {},
     "output_type": "execute_result"
    }
   ],
   "source": [
    "subtract(x2=2, x1=1)"
   ]
  },
  {
   "cell_type": "markdown",
   "metadata": {
    "slideshow": {
     "slide_type": "subslide"
    }
   },
   "source": [
    "## Passing arguments (cont)\n",
    "\n",
    "Positional arguments come first, then keyword arguments."
   ]
  },
  {
   "cell_type": "code",
   "execution_count": 5,
   "metadata": {},
   "outputs": [
    {
     "name": "stdout",
     "output_type": "stream",
     "text": [
      "a1 = 10\n"
     ]
    }
   ],
   "source": [
    "def add(x1, x2, x3, x4):\n",
    "    return sum([x1, x2, x3, x4])\n",
    "\n",
    "a1 = add(x1=1, x2=2, x3=3, x4=4)  # this works\n",
    "print(\"a1 =\", a1)"
   ]
  },
  {
   "cell_type": "code",
   "execution_count": 6,
   "metadata": {},
   "outputs": [],
   "source": [
    "# a2 = add(1, 2, x3=3, 4)  # this doesn't work"
   ]
  },
  {
   "cell_type": "markdown",
   "metadata": {
    "slideshow": {
     "slide_type": "slide"
    }
   },
   "source": [
    "## Scope of variables\n",
    "\n",
    "Variables defined inside the function are said to belong to the function’s **scope**. They are unknown outside the function. "
   ]
  },
  {
   "cell_type": "code",
   "execution_count": 7,
   "metadata": {},
   "outputs": [
    {
     "name": "stdout",
     "output_type": "stream",
     "text": [
      "40.0\n"
     ]
    }
   ],
   "source": [
    "def mult2(x):\n",
    "    c = 2.   # a local variable\n",
    "    return c*x\n",
    "\n",
    "print(mult2(20)) \n",
    "\n",
    "# print(c) # doesn't work"
   ]
  },
  {
   "cell_type": "markdown",
   "metadata": {
    "slideshow": {
     "slide_type": "subslide"
    }
   },
   "source": [
    "## Parameters and global variables\n",
    "\n",
    "Compare:\n",
    "\n",
    "a is a parameter of the function:\n",
    "```python\n",
    "def multiply(x, a):\n",
    "    return a*x\n",
    "```\n",
    "\n",
    "a is referenced from outside of the  functions scope, a is a **global** variable:\n",
    "```python\n",
    "a = 3\n",
    "def multiply(x):\n",
    "    return a*x\n",
    "```"
   ]
  },
  {
   "cell_type": "markdown",
   "metadata": {
    "slideshow": {
     "slide_type": "subslide"
    }
   },
   "source": [
    "## Changing argument values inside a function\n",
    "\n",
    "Example:"
   ]
  },
  {
   "cell_type": "code",
   "execution_count": 8,
   "metadata": {},
   "outputs": [
    {
     "name": "stdout",
     "output_type": "stream",
     "text": [
      "my_a = 10 my_interval = [0, 7]\n"
     ]
    }
   ],
   "source": [
    "def myfunc(a, interval):\n",
    "    a = 0\n",
    "    interval[0] = 0\n",
    "    \n",
    "my_a = 10\n",
    "my_interval = [-5, 7]\n",
    "myfunc(my_a, my_interval)\n",
    "print(f\"my_a = {my_a} my_interval = {my_interval}\")"
   ]
  },
  {
   "cell_type": "markdown",
   "metadata": {
    "slideshow": {
     "slide_type": "subslide"
    }
   },
   "source": [
    "## Global variables\n",
    "\n",
    "Example 1:"
   ]
  },
  {
   "cell_type": "code",
   "execution_count": 9,
   "metadata": {},
   "outputs": [
    {
     "name": "stdout",
     "output_type": "stream",
     "text": [
      "result = 20 a = 3\n"
     ]
    }
   ],
   "source": [
    "a = 3\n",
    "def multiply(x):\n",
    "    a = 4\n",
    "    return a*x\n",
    "\n",
    "print(f\"result = {multiply(5)} a = {a}\")"
   ]
  },
  {
   "cell_type": "markdown",
   "metadata": {},
   "source": [
    "Inside the function, `a` is a local variable that is assigned a value.\n",
    "\n",
    "Following code doesn't work:\n",
    "\n",
    "```python\n",
    "a = 3\n",
    "def multiply(x):\n",
    "    a = a + 1  # doesn't work\n",
    "    return a*x\n",
    "```"
   ]
  },
  {
   "cell_type": "markdown",
   "metadata": {
    "slideshow": {
     "slide_type": "subslide"
    }
   },
   "source": [
    "## Default arguments\n",
    "\n",
    "#### Example &hyphen; Free fall due to gravity\n",
    "\n",
    "The force $F$ is proportional to the mass $m$, $F = mg$,\n",
    "where $g$ is the acceleration of gravity. \n",
    "\n",
    "On earth $g \\approx 9,8 \\text{ m}/\\text{s}^2$."
   ]
  },
  {
   "cell_type": "code",
   "execution_count": 9,
   "metadata": {},
   "outputs": [
    {
     "ename": "SyntaxError",
     "evalue": "non-default argument follows default argument (<ipython-input-9-bd522b4c4a4a>, line 1)",
     "output_type": "error",
     "traceback": [
      "\u001b[1;36m  File \u001b[1;32m\"<ipython-input-9-bd522b4c4a4a>\"\u001b[1;36m, line \u001b[1;32m1\u001b[0m\n\u001b[1;33m    def F(g = 9.8,m):\u001b[0m\n\u001b[1;37m         ^\u001b[0m\n\u001b[1;31mSyntaxError\u001b[0m\u001b[1;31m:\u001b[0m non-default argument follows default argument\n"
     ]
    }
   ],
   "source": [
    "def F(g = 9.8,m):\n",
    "    return m*g\n",
    "\n",
    "F1 = F(50)\n",
    "F2 = F(50, 1.625)\n",
    "print(f\"On earth, the force is {F1:0.1f} Newton.\")\n",
    "print(f\"On the mooon, the force is {F2:0.1f} Newton.\")"
   ]
  },
  {
   "cell_type": "markdown",
   "metadata": {},
   "source": [
    "In the definition of the function, mandatory parameters must precede optional parameters (those with default values). Why?"
   ]
  },
  {
   "cell_type": "markdown",
   "metadata": {
    "slideshow": {
     "slide_type": "subslide"
    }
   },
   "source": [
    "## Arguments, Parameters - Summary\n",
    "\n",
    "Make sure that you understood the difference\n",
    "\n",
    "- between arguments and parameters. Argument = the specific value. Parameter = the variable \n",
    "- between function definition and function evaluation (call). Call = output of the function\n",
    "- between positional arguments and keyword arguments. Positional arg = input by position. Keyword arg = 'x=2, y=3'."
   ]
  },
  {
   "cell_type": "markdown",
   "metadata": {
    "slideshow": {
     "slide_type": "slide"
    }
   },
   "source": [
    "## Docstring\n",
    "\n",
    "All functions (and everything else) should be documented carefully.\n",
    "\n",
    "A docstring is the leading comment in a function (or class):\n",
    "\n",
    "```python\n",
    "def newton(f, x0): \n",
    "    \"\"\"\n",
    "    Newton’s method for computing a zero of a function on input:\n",
    "    f (function) given function f(x)\n",
    "    x0 (float) initial guess \n",
    "    on return:\n",
    "    y (float) the approximated zero of f \n",
    "    \"\"\"\n",
    "...\n",
    "```\n",
    "\n",
    "`help(newton)` in Python or `newton?` in IPython displays the docstring as a help text."
   ]
  },
  {
   "cell_type": "markdown",
   "metadata": {
    "slideshow": {
     "slide_type": "slide"
    }
   },
   "source": [
    "## Parameters and arguments"
   ]
  },
  {
   "cell_type": "markdown",
   "metadata": {
    "slideshow": {
     "slide_type": "subslide"
    }
   },
   "source": [
    "## Unpacking arguments\n",
    "\n",
    "Positional arguments remind us of lists. Keyword arguments remind us of dictionaries."
   ]
  },
  {
   "cell_type": "code",
   "execution_count": 11,
   "metadata": {},
   "outputs": [
    {
     "data": {
      "text/plain": [
       "[<matplotlib.lines.Line2D at 0x117f03c10>]"
      ]
     },
     "execution_count": 11,
     "metadata": {},
     "output_type": "execute_result"
    },
    {
     "data": {
      "image/png": "[encoded data removed]",
      "text/plain": [
       "<Figure size 288x288 with 1 Axes>"
      ]
     },
     "metadata": {
      "needs_background": "light"
     },
     "output_type": "display_data"
    }
   ],
   "source": [
    "figure(figsize = (4, 4))  # make it square-shaped, width first, height later\n",
    "data = [[1, 4], [1, 4]]\n",
    "my_style = {'linewidth': 3, 'marker': 'o', 'color': 'green'} \n",
    "#both key and value will be sent. Key will be the name of the argument, value will be the value of the argument! \n",
    "\n",
    "# Star operators unpack these to form a valid parameter list. So for data, you get: \"1,4\". \n",
    "#For my_style you use ** to unpack a dictionary... you get linewidth 3, marker 'o', 'color green'.\n",
    "plot(*data, **my_style)"
   ]
  },
  {
   "cell_type": "markdown",
   "metadata": {
    "slideshow": {
     "slide_type": "subslide"
    }
   },
   "source": [
    "## Star operator to unpack containers"
   ]
  },
  {
   "cell_type": "code",
   "execution_count": 12,
   "metadata": {},
   "outputs": [
    {
     "name": "stdout",
     "output_type": "stream",
     "text": [
      "a = 0\n",
      "c = 0 d = [1, 2, 3, 4]\n",
      "e = nr1 f = ['nr2', 'nr3']\n"
     ]
    }
   ],
   "source": [
    "a, b = [0, 1]\n",
    "print(\"a =\", a)\n",
    "\n",
    "c, *d = [0, 1, 2, 3, 4] #c takes 0, and *d means that d will take the rest of the list on the RHS. \n",
    "print(\"c =\", c, \"d =\", d)\n",
    "\n",
    "e, *f = {\"nr1\": 10, \"nr2\": 36, \"nr3\": 57} # can also use .items(), .values()\n",
    "print(\"e =\", e, \"f =\", f) #dictionaries unpacked will contain the index as a list.  "
   ]
  },
  {
   "cell_type": "markdown",
   "metadata": {
    "slideshow": {
     "slide_type": "subslide"
    }
   },
   "source": [
    "## Star operator in function definitions\n",
    "\n",
    "A function can take an optional number of **positional** arguments by using a **single star**."
   ]
  },
  {
   "cell_type": "code",
   "execution_count": 13,
   "metadata": {},
   "outputs": [
    {
     "name": "stdout",
     "output_type": "stream",
     "text": [
      "<class 'tuple'>\n",
      "s = 15\n"
     ]
    }
   ],
   "source": [
    "def add(*args): ##star here means that you can input an optional number of arguments, put in front! \n",
    "    print(type(args))\n",
    "    return sum(args)\n",
    "\n",
    "s = add(1, 2, 3, 4, 5)\n",
    "print(\"s =\", s)"
   ]
  },
  {
   "cell_type": "markdown",
   "metadata": {
    "slideshow": {
     "slide_type": "subslide"
    }
   },
   "source": [
    "## Star operator in function definitions (cont)\n",
    "\n",
    "A function can take an optional number of **keyword arguments** by using a **double star**."
   ]
  },
  {
   "cell_type": "code",
   "execution_count": 10,
   "metadata": {},
   "outputs": [
    {
     "name": "stdout",
     "output_type": "stream",
     "text": [
      "<class 'dict'>\n",
      "the key name has the value Joe\n",
      "the key age has the value 20\n"
     ]
    }
   ],
   "source": [
    "def myfunc(*args, **kwargs): ##now, double star is used when you want optional number of keyword arguments. \n",
    "    print(type(kwargs))\n",
    "    for key, val in kwargs.items(): #the keyword arguments will automatically be put in a dictionary that you can flip through\n",
    "        print(f\"the key {key} has the value {val}\")\n",
    "         \n",
    "myfunc(name = \"Joe\", age = 20)"
   ]
  },
  {
   "cell_type": "markdown",
   "metadata": {},
   "source": [
    "You can use any names you want. The names `args` and `kwargs` are often used."
   ]
  },
  {
   "cell_type": "markdown",
   "metadata": {
    "slideshow": {
     "slide_type": "subslide"
    }
   },
   "source": [
    "## Passing (tunneling) arguments\n",
    "Also in the definition of functions you might find these constructs. This is often used to pass arguments through a function."
   ]
  },
  {
   "cell_type": "code",
   "execution_count": 15,
   "metadata": {},
   "outputs": [
    {
     "name": "stdout",
     "output_type": "stream",
     "text": [
      "y = 1 z = 2, u = 15\n"
     ]
    },
    {
     "data": {
      "text/plain": [
       "9"
      ]
     },
     "execution_count": 15,
     "metadata": {},
     "output_type": "execute_result"
    }
   ],
   "source": [
    "def outer(f, x, *args, **keywords): \n",
    "    return f(x, *args, **keywords)\n",
    "\n",
    "def inner(x, y, z, u): \n",
    "    print(f\"y = {y} z = {z}, u = {u}\")\n",
    "    return x**2\n",
    "\n",
    "outer(inner, 3, 1, 2, u=15) #you can mix positional arguments"
   ]
  },
  {
   "cell_type": "markdown",
   "metadata": {},
   "source": [
    "Note, the function outer cannot know how many arguments it needs to provide a full parameter list to the “inner” function f."
   ]
  },
  {
   "cell_type": "markdown",
   "metadata": {
    "slideshow": {
     "slide_type": "subslide"
    }
   },
   "source": [
    "## Return\n",
    "\n",
    "The `return` statement returns a **single** object! A tuple!\n",
    "\n",
    "```python\n",
    "def myfunc(x):\n",
    "    return 1, 2, 3, 4, 5, 6\n",
    "```\n",
    "\n",
    "What is the object returned here? Which type does it have?\n",
    "\n",
    "Statements after the `return` statement are ignored.\n",
    "\n",
    "```python\n",
    "def myfunc(x):\n",
    "    return 1, 2, 3\n",
    "    z = 25  # ignored\n",
    "```"
   ]
  },
  {
   "cell_type": "markdown",
   "metadata": {
    "slideshow": {
     "slide_type": "subslide"
    }
   },
   "source": [
    "## No return\n",
    "\n",
    "A function without a return statement returns `None`."
   ]
  },
  {
   "cell_type": "code",
   "execution_count": 16,
   "metadata": {},
   "outputs": [
    {
     "name": "stdout",
     "output_type": "stream",
     "text": [
      "Hello World!\n",
      "<class 'NoneType'>\n",
      "True\n"
     ]
    }
   ],
   "source": [
    "def show_message():\n",
    "    print(\"Hello World!\")\n",
    "    \n",
    "a = show_message()\n",
    "print(type(a))\n",
    "\n",
    "print(a is None)"
   ]
  },
  {
   "cell_type": "markdown",
   "metadata": {
    "slideshow": {
     "slide_type": "slide"
    }
   },
   "source": [
    "## Functions are objects\n",
    "\n",
    "Functions are objects, they can be deleted, reassigned, copied ..."
   ]
  },
  {
   "cell_type": "code",
   "execution_count": 21,
   "metadata": {},
   "outputs": [
    {
     "name": "stdout",
     "output_type": "stream",
     "text": [
      "square(4) = 16\n",
      "sq 5 = 25\n"
     ]
    }
   ],
   "source": [
    "def square(x):\n",
    "    return x**2\n",
    "\n",
    "print(\"square(4) =\", square(4))\n",
    "\n",
    "sq = square  # now sq is the same as square\n",
    "\n",
    "del square # square doesn't exist anymor\n",
    "\n",
    "i = 5\n",
    "print(\"sq\",i,\"=\", sq(i))"
   ]
  },
  {
   "cell_type": "markdown",
   "metadata": {
    "slideshow": {
     "slide_type": "subslide"
    }
   },
   "source": [
    "## Partial Application (or closures)\n",
    "\n",
    "In mathematics we often \"freeze\" a parameter of a function: $f_\\omega(x) = f(x, \\omega) = \\sin(\\omega, x)$\n",
    "\n",
    "In Python we can do this:"
   ]
  },
  {
   "cell_type": "code",
   "execution_count": 28,
   "metadata": {},
   "outputs": [
    {
     "data": {
      "text/plain": [
       "[<matplotlib.lines.Line2D at 0x2b0b17b2400>]"
      ]
     },
     "execution_count": 28,
     "metadata": {},
     "output_type": "execute_result"
    },
    {
     "data": {
      "image/png": "[encoded data removed]",
      "text/plain": [
       "<Figure size 288x216 with 1 Axes>"
      ]
     },
     "metadata": {
      "needs_background": "light"
     },
     "output_type": "display_data"
    }
   ],
   "source": [
    "def make_sin(omega):\n",
    "    def f(x): #you define a function within a function because you can only integrate one variable at a time in python\n",
    "        return sin(omega*x) #since omega is treated as a constant, we can now integrate this with a running variable x. \n",
    "    return f\n",
    "figure(figsize = (4, 3))\n",
    "fomega = make_sin(2)\n",
    "x = linspace(0, 2*pi, 100)\n",
    "plot(x, fomega(x))"
   ]
  },
  {
   "cell_type": "markdown",
   "metadata": {
    "slideshow": {
     "slide_type": "subslide"
    }
   },
   "source": [
    "## Anonymous functions &hyphen; the `lambda` keyword\n",
    "\n",
    "With $\\lambda$-functions one has a handy tool making one-line function definitions:"
   ]
  },
  {
   "cell_type": "code",
   "execution_count": 19,
   "metadata": {},
   "outputs": [
    {
     "name": "stdout",
     "output_type": "stream",
     "text": [
      "33.5\n",
      "1\n"
     ]
    }
   ],
   "source": [
    "f = lambda x: 3*x**2 + 2*x + 0.5 #lambda is just shorter. if you want to send in a funciton to another: use 'def'\n",
    "\n",
    "print(f(3))\n",
    "\n",
    "g = lambda x, y: 3*x - 2*y\n",
    "\n",
    "print(g(1, 1))"
   ]
  },
  {
   "cell_type": "markdown",
   "metadata": {},
   "source": [
    "Example for a common application, compute $\\int_0^1x^2+5dx$."
   ]
  },
  {
   "cell_type": "code",
   "execution_count": 30,
   "metadata": {},
   "outputs": [
    {
     "name": "stdout",
     "output_type": "stream",
     "text": [
      "5.333333333333333\n"
     ]
    }
   ],
   "source": [
    "import scipy.integrate as si\n",
    "result, error = si.quad(lambda x: x**2+5, 0, 1)\n",
    "print(result)"
   ]
  },
  {
   "cell_type": "markdown",
   "metadata": {
    "slideshow": {
     "slide_type": "subslide"
    }
   },
   "source": [
    "## Closures and $\\lambda$\n",
    "\n",
    "$$f_\\omega(x)=f(x, \\omega) = \\sin(\\omega x)$$"
   ]
  },
  {
   "cell_type": "code",
   "execution_count": 31,
   "metadata": {},
   "outputs": [
    {
     "name": "stdout",
     "output_type": "stream",
     "text": [
      "8.85218062615943e-17\n"
     ]
    },
    {
     "data": {
      "text/plain": [
       "[<matplotlib.lines.Line2D at 0x2b0b205ffd0>]"
      ]
     },
     "execution_count": 31,
     "metadata": {},
     "output_type": "execute_result"
    },
    {
     "data": {
      "image/png": "[encoded data removed]",
      "text/plain": [
       "<Figure size 432x288 with 1 Axes>"
      ]
     },
     "metadata": {
      "needs_background": "light"
     },
     "output_type": "display_data"
    }
   ],
   "source": [
    "omega = 3\n",
    "fomega = lambda x: sin(omega*x)\n",
    "\n",
    "result, error = si.quad(fomega, 0, 2*pi)\n",
    "print(result)\n",
    "x = linspace(0, 2*pi, 100)\n",
    "plot(x, fomega(x))"
   ]
  },
  {
   "cell_type": "code",
   "execution_count": null,
   "metadata": {},
   "outputs": [],
   "source": []
  }
 ],
 "metadata": {
  "celltoolbar": "Slideshow",
  "kernelspec": {
   "display_name": "Python 3",
   "language": "python",
   "name": "python3"
  },
  "language_info": {
   "codemirror_mode": {
    "name": "ipython",
    "version": 3
   },
   "file_extension": ".py",
   "mimetype": "text/x-python",
   "name": "python",
   "nbconvert_exporter": "python",
   "pygments_lexer": "ipython3",
   "version": "3.7.3"
  },
  "rise": {
   "autolaunch": true,
   "footer": "<h3>&nbsp;&nbsp;&nbsp;&nbsp;C. Führer, M. Christersson, Lund University, Sweden</h3>",
   "theme": "simple",
   "transition": "slide"
  }
 },
 "nbformat": 4,
 "nbformat_minor": 2
}
